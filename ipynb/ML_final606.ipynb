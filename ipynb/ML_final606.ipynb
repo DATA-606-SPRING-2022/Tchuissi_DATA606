{
  "nbformat": 4,
  "nbformat_minor": 0,
  "metadata": {
    "colab": {
      "name": "ML_final606.ipynb",
      "provenance": [],
      "authorship_tag": "ABX9TyOmjtHDDJhThXFjxoe4Tc8/",
      "include_colab_link": true
    },
    "kernelspec": {
      "name": "python3",
      "display_name": "Python 3"
    },
    "language_info": {
      "name": "python"
    }
  },
  "cells": [
    {
      "cell_type": "markdown",
      "metadata": {
        "id": "view-in-github",
        "colab_type": "text"
      },
      "source": [
        "<a href=\"https://colab.research.google.com/github/Tchuissi/Tchuissi_DATA606/blob/main/ipynb/ML_final606.ipynb\" target=\"_parent\"><img src=\"https://colab.research.google.com/assets/colab-badge.svg\" alt=\"Open In Colab\"/></a>"
      ]
    },
    {
      "cell_type": "code",
      "execution_count": null,
      "metadata": {
        "id": "o2n4i2I0XlWr"
      },
      "outputs": [],
      "source": [
        ""
      ]
    }
  ]
}